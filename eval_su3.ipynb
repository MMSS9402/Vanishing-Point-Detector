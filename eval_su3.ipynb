{
 "cells": [
  {
   "cell_type": "code",
   "execution_count": null,
   "metadata": {},
   "outputs": [],
   "source": [
    "import os\n",
    "import os.path as osp\n",
    "import argparse\n",
    "from datetime import date\n",
    "import json\n",
    "import random\n",
    "import time\n",
    "from pathlib import Path\n",
    "import numpy as np\n",
    "import numpy.linalg as LA\n",
    "from tqdm import tqdm\n",
    "import matplotlib as mpl\n",
    "import matplotlib.pyplot as plt\n",
    "import cv2\n",
    "import csv\n",
    "import warnings\n",
    "\n",
    "import torch\n",
    "import torch.nn.functional as F\n",
    "from torch.utils.data import DataLoader\n",
    "\n",
    "import torch\n",
    "\n",
    "import datasets\n",
    "import util.misc as utils\n",
    "from datasets import build_matterport_dataset,build_scannet_dataset,build_su3_dataset\n",
    "from models import build_model\n",
    "from models.matchers import build_matcher\n",
    "from config import cfg"
   ]
  },
  {
   "cell_type": "code",
   "execution_count": null,
   "metadata": {},
   "outputs": [],
   "source": [
    "def AA(x, y, threshold):\n",
    "    index = np.searchsorted(x, threshold)\n",
    "    x = np.concatenate([x[:index], [threshold]])\n",
    "    y = np.concatenate([y[:index], [threshold]])\n",
    "    return ((x[1:] - x[:-1]) * y[:-1]).sum() / threshold\n",
    "\n",
    "def get_src_permutation_idx(indices):\n",
    "    # permute predictions following indices\n",
    "    batch_idx = torch.cat([torch.full_like(src, i) for i, (src, _) in enumerate(indices)])\n",
    "    src_idx = torch.cat([src for (src, _) in indices])\n",
    "    return batch_idx, src_idx\n",
    "\n",
    "def get_tgt_permutation_idx(indices):\n",
    "    # permute targets following indices\n",
    "    batch_idx = torch.cat([torch.full_like(tgt, i) for i, (_, tgt) in enumerate(indices)])\n",
    "    tgt_idx = torch.cat([tgt for (_, tgt) in indices])\n",
    "    return batch_idx, tgt_idx\n",
    "    \n",
    "def to_device(data, device):\n",
    "    if type(data) == dict:\n",
    "        return {k: v.to(device) for k, v in data.items()}\n",
    "    return [{k: v.to(device) if isinstance(v, torch.Tensor) else v\n",
    "             for k, v in t.items()} for t in data]\n",
    "\n",
    "def compute_error(vps_pd, vps_gt):\n",
    "    error = np.arccos(np.abs(vps_gt @ vps_pd.transpose()).clip(max=1))\n",
    "    # import pdb; pdb.set_trace()\n",
    "    error = error.min(axis=1) / np.pi * 180.0 # num_pd x num_gt, axis=1\n",
    "    return error.flatten()\n",
    "\n",
    "def to_device(data, device):\n",
    "    if type(data) == dict:\n",
    "        return {k: v.to(device) for k, v in data.items()}\n",
    "    return [{k: v.to(device) if isinstance(v, torch.Tensor) else v\n",
    "             for k, v in t.items()} for t in data]"
   ]
  },
  {
   "cell_type": "code",
   "execution_count": null,
   "metadata": {},
   "outputs": [],
   "source": [
    "device = torch.device(cfg.DEVICE)"
   ]
  },
  {
   "cell_type": "code",
   "execution_count": null,
   "metadata": {},
   "outputs": [],
   "source": [
    "model, _ = build_model(cfg)\n",
    "model.to(device)\n",
    "checkpoint = torch.load('/home/kmuvcl/CTRL-C/su3log/checkpoint0078.pth', map_location='cpu')\n",
    "model.load_state_dict(checkpoint['model'])\n",
    "# model = model.eval()\n",
    "matcher = build_matcher(cfg)"
   ]
  },
  {
   "cell_type": "code",
   "execution_count": null,
   "metadata": {},
   "outputs": [],
   "source": [
    "dataset_test = build_su3_dataset(image_set='val', cfg=cfg)\n",
    "sampler_test = torch.utils.data.SequentialSampler(dataset_test)\n",
    "data_loader_test = DataLoader(dataset_test, 1, sampler=sampler_test,\n",
    "                                drop_last=False, \n",
    "                                collate_fn=utils.collate_fn, \n",
    "                                num_workers=2)"
   ]
  },
  {
   "cell_type": "code",
   "execution_count": null,
   "metadata": {},
   "outputs": [],
   "source": [
    "for i, (samples, extra_samples, targets) in enumerate(tqdm(data_loader_test)):\n",
    "    # with torch.no_grad():\n",
    "    pred_vp = {}\n",
    "    target_vp = {}\n",
    "    samples = samples.to(device)\n",
    "    extra_samples = to_device(extra_samples, device)\n",
    "    outputs, extra_info = model(extra_samples)\n",
    "    pred_vp1 = outputs['pred_vp1'].to('cpu')[0]\n",
    "    pred_vp2 = outputs['pred_vp2'].to('cpu')[0]\n",
    "    pred_vp3 = outputs['pred_vp3'].to('cpu')[0]\n",
    "    target_vp1 = targets[0]['vp1']\n",
    "    target_vp2 = targets[0]['vp2']\n",
    "    target_vp3 = targets[0]['vp3']\n",
    "    target_vp4 = targets[0]['vp']\n",
    "\n",
    "    pred_vp['pred_vp1'] = outputs['pred_vp1'].to('cpu')\n",
    "    pred_vp['pred_vp2'] = outputs['pred_vp2'].to('cpu')\n",
    "    pred_vp['pred_vp3'] = outputs['pred_vp3'].to('cpu')\n",
    "\n",
    "    target_vp['vp1'] = target_vp1\n",
    "    target_vp['vp2'] = target_vp2\n",
    "    target_vp['vp3'] = target_vp3\n",
    "    target_vp['vp'] = target_vp4\n",
    "    target_vp = (target_vp,)\n",
    "\n",
    "    indices = matcher(pred_vp,target_vp)\n",
    "    src_idx = get_src_permutation_idx(indices)\n",
    "    tgt_idx = get_tgt_permutation_idx(indices) \n",
    "\n",
    "    pred_vpts = torch.cat([pred_vp1.unsqueeze(1),pred_vp2.unsqueeze(1),pred_vp3.unsqueeze(1)],dim=1).unsqueeze(0)\n",
    "    cos_sim = F.cosine_similarity(pred_vpts[src_idx], target_vp4[tgt_idx], dim=-1).abs()\n",
    "    print(cos_sim)\n"
   ]
  },
  {
   "cell_type": "code",
   "execution_count": null,
   "metadata": {},
   "outputs": [],
   "source": []
  }
 ],
 "metadata": {
  "kernelspec": {
   "display_name": "debug",
   "language": "python",
   "name": "python3"
  },
  "language_info": {
   "codemirror_mode": {
    "name": "ipython",
    "version": 3
   },
   "file_extension": ".py",
   "mimetype": "text/x-python",
   "name": "python",
   "nbconvert_exporter": "python",
   "pygments_lexer": "ipython3",
   "version": "3.9.18"
  },
  "orig_nbformat": 4
 },
 "nbformat": 4,
 "nbformat_minor": 2
}
