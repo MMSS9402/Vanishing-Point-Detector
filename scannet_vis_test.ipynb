{
 "cells": [
  {
   "cell_type": "code",
   "execution_count": 1,
   "metadata": {},
   "outputs": [
    {
     "name": "stderr",
     "output_type": "stream",
     "text": [
      "/home/kmuvcl/anaconda3/envs/debug/lib/python3.9/site-packages/tqdm/auto.py:21: TqdmWarning: IProgress not found. Please update jupyter and ipywidgets. See https://ipywidgets.readthedocs.io/en/stable/user_install.html\n",
      "  from .autonotebook import tqdm as notebook_tqdm\n"
     ]
    }
   ],
   "source": [
    "import os\n",
    "import os.path as osp\n",
    "import argparse\n",
    "from datetime import date\n",
    "import json\n",
    "import random\n",
    "import time\n",
    "from pathlib import Path\n",
    "import numpy as np\n",
    "import numpy.linalg as LA\n",
    "from tqdm import tqdm\n",
    "import matplotlib as mpl\n",
    "import matplotlib.pyplot as plt\n",
    "import cv2\n",
    "import csv\n",
    "import warnings\n",
    "\n",
    "import skimage.io\n",
    "import skimage.transform\n",
    "\n",
    "import torch\n",
    "import torch.nn.functional as F\n",
    "from torch.utils.data import DataLoader\n",
    "\n",
    "import torch\n",
    "\n",
    "import datasets\n",
    "import util.misc as utils\n",
    "from config import cfg\n",
    "import h5py"
   ]
  },
  {
   "cell_type": "code",
   "execution_count": 2,
   "metadata": {},
   "outputs": [],
   "source": [
    "def eul2rotm_ypr(euler):\n",
    "    R_x = np.array(\n",
    "        [\n",
    "            [1, 0, 0],\n",
    "            [0, np.cos(euler[0]), -np.sin(euler[0])],\n",
    "            [0, np.sin(euler[0]), np.cos(euler[0])],\n",
    "        ],\n",
    "        dtype=np.float32,\n",
    "    )\n",
    "\n",
    "    R_y = np.array(\n",
    "        [\n",
    "            [np.cos(euler[1]), 0, np.sin(euler[1])],\n",
    "            [0, 1, 0],\n",
    "            [-np.sin(euler[1]), 0, np.cos(euler[1])],\n",
    "        ],\n",
    "        dtype=np.float32,\n",
    "    )\n",
    "\n",
    "    R_z = np.array(\n",
    "        [\n",
    "            [np.cos(euler[2]), -np.sin(euler[2]), 0],\n",
    "            [np.sin(euler[2]), np.cos(euler[2]), 0],\n",
    "            [0, 0, 1],\n",
    "        ],\n",
    "        dtype=np.float32,\n",
    "    )\n",
    "\n",
    "    return np.dot(R_z, np.dot(R_x, R_y))\n",
    "\n",
    "\n",
    "def create_masks(image):\n",
    "    masks = torch.zeros((1, height, width), dtype=torch.uint8)\n",
    "    return masks\n",
    "\n",
    "\n",
    "def read_line_file(filename, min_line_length=10):\n",
    "    segs = []  # line segments\n",
    "    # csv 파일 열어서 Line 정보 가져오기\n",
    "    with open(filename, \"r\") as csvfile:\n",
    "        csvreader = csv.reader(csvfile)\n",
    "        for row in csvreader:\n",
    "            segs.append([float(row[0]), float(row[1]), float(row[2]), float(row[3])])\n",
    "    segs = np.array(segs, dtype=np.float32)\n",
    "    lengths = LA.norm(segs[:, 2:] - segs[:, :2], axis=1)\n",
    "    segs = segs[lengths > min_line_length]\n",
    "    return segs\n",
    "\n",
    "def coordinate_yup(segs,org_h,org_w):\n",
    "    H = np.array([0,org_h,0,org_h])\n",
    "    segs[:,1] = -segs[:,1]\n",
    "    segs[:,3] = -segs[:,3]\n",
    "    # segs = -segs\n",
    "    return(H+segs)\n",
    "    \n",
    "\n",
    "def normalize_segs(segs, pp, rho):\n",
    "    pp = np.array([pp[0], pp[1], pp[0], pp[1]], dtype=np.float32)\n",
    "    return (segs - pp)/rho\n",
    "\n",
    "def focal_length_normalize(segs):\n",
    "    segs = segs/517.97\n",
    "    return segs\n",
    "\n",
    "\n",
    "def normalize_safe_np(v, axis=-1, eps=1e-6):\n",
    "    de = LA.norm(v, axis=axis, keepdims=True)\n",
    "    de = np.maximum(de, eps)\n",
    "    return v / de\n",
    "\n",
    "\n",
    "def segs2lines_np(segs):\n",
    "    ones = np.ones(len(segs))\n",
    "    ones = np.expand_dims(ones, axis=-1)\n",
    "    p1 = np.concatenate([segs[:, :2], ones], axis=-1)\n",
    "    p2 = np.concatenate([segs[:, 2:], ones], axis=-1)\n",
    "\n",
    "    lines = np.cross(p1, p2)\n",
    "\n",
    "    return normalize_safe_np(lines)\n",
    "\n",
    "\n",
    "\n",
    "def sample_segs_np(segs, num_sample, use_prob=True):\n",
    "    num_segs = len(segs)\n",
    "    sampled_segs = np.zeros([num_sample, 4], dtype=np.float32)\n",
    "    mask = np.zeros([num_sample, 1], dtype=np.float32)\n",
    "    if num_sample > num_segs:\n",
    "        sampled_segs[:num_segs] = segs\n",
    "        mask[:num_segs] = np.ones([num_segs, 1], dtype=np.float32)\n",
    "    # else:\n",
    "    #     sampled_segs = segs[:num_sample]\n",
    "    #     mask[:num_segs] = np.ones([num_sample, 1], dtype=np.float32)\n",
    "    else:\n",
    "        lengths = LA.norm(segs[:, 2:] - segs[:, :2], axis=-1)\n",
    "        prob = lengths / np.sum(lengths)\n",
    "        idxs = np.random.choice(segs.shape[0], num_sample, replace=True, p=prob)\n",
    "        sampled_segs = segs[idxs]\n",
    "        mask = np.ones([num_sample, 1], dtype=np.float32)\n",
    "    return sampled_segs, mask\n",
    "\n",
    "# def segs_np(segs, num_sample, use_prob=True):\n",
    "#     num_segs = len(segs)\n",
    "#     sampled_segs = np.zeros([num_sample, 4], dtype=np.float32)\n",
    "#     mask = np.zeros([num_sample, 1], dtype=np.float32)\n",
    "#     if num_sample > num_segs:\n",
    "#         sampled_segs[:num_segs] = segs\n",
    "#         mask[:num_segs] = np.ones([num_segs, 1], dtype=np.float32)\n",
    "#     # else:\n",
    "#     #     sampled_segs = segs[:num_sample]\n",
    "#     #     mask[:num_segs] = np.ones([num_sample, 1], dtype=np.float32)\n",
    "#     else:\n",
    "#         lengths = LA.norm(segs[:, 2:] - segs[:, :2], axis=-1)\n",
    "#         prob = lengths / np.sum(lengths)\n",
    "#         idxs = np.random.choice(segs.shape[0], num_sample, replace=True, p=prob)\n",
    "#         sampled_segs = segs[idxs]\n",
    "#         mask = np.ones([num_sample, 1], dtype=np.float32)\n",
    "#     return sampled_segs, mask\n",
    "\n",
    "def straight_line(segs):\n",
    "\n",
    "    # for i in range(len(segs)):\n",
    "    #     seg = np.vstack([segs[i,2]-segs[i,0],segs[i,3]-segs[i,1]])\n",
    "    num_line = segs.shape[0]\n",
    "    seg = np.zeros([num_line,2])\n",
    "    for i in range(len(segs)):    \n",
    "        seg[i,0] = segs[i,2]-segs[i,0]\n",
    "        seg[i,1] = segs[i,3]-segs[i,1]\n",
    "    return seg\n",
    "\n",
    "\n",
    "def sample_vert_segs_np(segs, thresh_theta=22.5):\n",
    "    lines = segs2lines_np(segs)\n",
    "    (a, b) = lines[:, 0], lines[:, 1]\n",
    "    theta = np.arctan2(np.abs(b), np.abs(a))\n",
    "    thresh_theta = np.radians(thresh_theta)\n",
    "    return segs[theta < thresh_theta]\n",
    "\n",
    "def compute_vp_similarity(lines,vp):\n",
    "    lines = torch.tensor(lines)\n",
    "    vp = torch.tensor(vp)\n",
    "    cos_sim = TF.cosine_similarity(lines, vp.unsqueeze(0), dim=-1).abs()\n",
    "    \n",
    "    return cos_sim"
   ]
  },
  {
   "cell_type": "code",
   "execution_count": 3,
   "metadata": {},
   "outputs": [],
   "source": [
    "def load_h5py_to_dict(file_path):\n",
    "        with h5py.File(file_path, 'r') as f:\n",
    "            return {key: torch.tensor(f[key][:]) for key in f.keys()}"
   ]
  },
  {
   "cell_type": "code",
   "execution_count": 4,
   "metadata": {},
   "outputs": [],
   "source": [
    "img = \"/home/kmuvcl/dataset/data/scannet-vp/scene0770_00/frame-000080-color.png\"\n",
    "h5_path = \"/home/kmuvcl/dataset/data/scannet-vp/scene0770_00/frame-000080-color_line.h5py\"\n",
    "npz_file = \"/home/kmuvcl/dataset/data/scannet-vp/scene0770_00/frame-000080-vanish.npz\""
   ]
  },
  {
   "cell_type": "code",
   "execution_count": 28,
   "metadata": {},
   "outputs": [
    {
     "name": "stdout",
     "output_type": "stream",
     "text": [
      "[-0.99833008 -0.01958267  0.05435465]\n",
      "[ 0.05756593 -0.25730365  0.96461478]\n",
      "[-0.00490409  0.96613252  0.25800064]\n"
     ]
    }
   ],
   "source": [
    "with np.load(npz_file) as npz:\n",
    "    vpts = np.array([npz[d] for d in [\"x\", \"y\", \"z\"]])\n",
    "    print(npz[\"y\"])\n",
    "    print(npz[\"x\"])\n",
    "    print(npz[\"z\"])\n",
    "    \n",
    "vpts[:, 1] *= -1\n",
    "vpts /= LA.norm(vpts, axis=1, keepdims=True)"
   ]
  },
  {
   "cell_type": "code",
   "execution_count": 29,
   "metadata": {},
   "outputs": [],
   "source": [
    "vpts = torch.tensor(vpts)"
   ]
  },
  {
   "cell_type": "code",
   "execution_count": 30,
   "metadata": {},
   "outputs": [
    {
     "data": {
      "text/plain": [
       "tensor([[ 0.0576,  0.2573,  0.9646],\n",
       "        [-0.9983,  0.0196,  0.0544],\n",
       "        [-0.0049, -0.9661,  0.2580]], dtype=torch.float64)"
      ]
     },
     "execution_count": 30,
     "metadata": {},
     "output_type": "execute_result"
    }
   ],
   "source": [
    "vpts"
   ]
  },
  {
   "cell_type": "code",
   "execution_count": 31,
   "metadata": {},
   "outputs": [
    {
     "data": {
      "text/plain": [
       "tensor(-1.8234e-08, dtype=torch.float64)"
      ]
     },
     "execution_count": 31,
     "metadata": {},
     "output_type": "execute_result"
    }
   ],
   "source": [
    "torch.dot(vpts[1],vpts[2])"
   ]
  },
  {
   "cell_type": "code",
   "execution_count": 50,
   "metadata": {},
   "outputs": [],
   "source": [
    "image = skimage.io.imread(img)[:, :, 0:3]"
   ]
  },
  {
   "cell_type": "code",
   "execution_count": 51,
   "metadata": {},
   "outputs": [
    {
     "data": {
      "text/plain": [
       "(512, 512, 3)"
      ]
     },
     "execution_count": 51,
     "metadata": {},
     "output_type": "execute_result"
    }
   ],
   "source": [
    "image.shape"
   ]
  },
  {
   "cell_type": "code",
   "execution_count": 52,
   "metadata": {},
   "outputs": [],
   "source": [
    "dic = load_h5py_to_dict(h5_path)"
   ]
  },
  {
   "cell_type": "code",
   "execution_count": 53,
   "metadata": {},
   "outputs": [
    {
     "name": "stdout",
     "output_type": "stream",
     "text": [
      "187\n"
     ]
    }
   ],
   "source": [
    "keylines = dic['klines']\n",
    "num_segs = keylines.shape[0]\n",
    "print(num_segs)"
   ]
  },
  {
   "cell_type": "code",
   "execution_count": 54,
   "metadata": {},
   "outputs": [],
   "source": [
    "org_segs = np.copy(keylines.reshape(num_segs,-1).numpy())"
   ]
  },
  {
   "cell_type": "code",
   "execution_count": 55,
   "metadata": {},
   "outputs": [
    {
     "data": {
      "text/plain": [
       "(187, 4)"
      ]
     },
     "execution_count": 55,
     "metadata": {},
     "output_type": "execute_result"
    }
   ],
   "source": [
    "org_segs.shape"
   ]
  },
  {
   "cell_type": "code",
   "execution_count": 56,
   "metadata": {},
   "outputs": [
    {
     "data": {
      "text/plain": [
       "(512, 512, 3)"
      ]
     },
     "execution_count": 56,
     "metadata": {},
     "output_type": "execute_result"
    }
   ],
   "source": [
    "image.shape"
   ]
  },
  {
   "cell_type": "code",
   "execution_count": 57,
   "metadata": {},
   "outputs": [],
   "source": [
    "plt.figure(figsize=(5,5))\n",
    "plt.imshow(image, extent=[0, 512, 512, 0])\n",
    "for i in range(num_segs):\n",
    "    plt.plot(\n",
    "        (org_segs[i, 0], org_segs[i, 2]),\n",
    "        (org_segs[i, 1], org_segs[i, 3]),\n",
    "        c=\"r\",\n",
    "        alpha=1.0,\n",
    "    )                                 \n",
    "plt.xlim(0, 512)\n",
    "plt.ylim(512, 0)\n",
    "plt.axis('off')\n",
    "plt.savefig('scannet.jpg',  \n",
    "            pad_inches=0, bbox_inches='tight')\n",
    "plt.close('all')"
   ]
  },
  {
   "cell_type": "code",
   "execution_count": 58,
   "metadata": {},
   "outputs": [],
   "source": [
    "focal_length = 2.408333333333333 * 256"
   ]
  },
  {
   "cell_type": "code",
   "execution_count": 59,
   "metadata": {},
   "outputs": [],
   "source": [
    "vpts_x = vpts[0]\n",
    "vpts_y = vpts[1]\n",
    "vpts_z = vpts[2]"
   ]
  },
  {
   "cell_type": "code",
   "execution_count": 60,
   "metadata": {},
   "outputs": [],
   "source": [
    "vpts_x = vpts_x#/vpts_x[2] * focal_length\n",
    "vpts_y = vpts_y#/vpts_y[2] * focal_length \n",
    "vpts_z = vpts_z#/vpts_z[2] * focal_length"
   ]
  },
  {
   "cell_type": "code",
   "execution_count": 61,
   "metadata": {},
   "outputs": [
    {
     "data": {
      "text/plain": [
       "array([-0.00490409, -0.96613252,  0.25800064])"
      ]
     },
     "execution_count": 61,
     "metadata": {},
     "output_type": "execute_result"
    }
   ],
   "source": [
    "vpts_z"
   ]
  },
  {
   "cell_type": "code",
   "execution_count": 62,
   "metadata": {},
   "outputs": [],
   "source": [
    "plt.figure(figsize=(5,5))\n",
    "plt.imshow(image, extent=[-256/focal_length, 256/focal_length, 256/focal_length, -256/focal_length])\n",
    "for i in range(num_segs):\n",
    "    plt.plot((0, vpts_x[0]), (0, vpts_x[1]), 'r-', alpha=1.0)\n",
    "    plt.plot((0, vpts_y[0]), (0, vpts_y[1]), 'g-', alpha=1.0)\n",
    "    plt.plot((0, vpts_z[0]), (0, vpts_z[1]), 'b-', alpha=1.0)                               \n",
    "plt.xlim(-256/focal_length, 256/focal_length)\n",
    "plt.ylim(256/focal_length, -256/focal_length)\n",
    "plt.axis('off')\n",
    "plt.savefig('scannet_vp.jpg',  \n",
    "            pad_inches=0, bbox_inches='tight')\n",
    "plt.close('all')"
   ]
  },
  {
   "cell_type": "code",
   "execution_count": 63,
   "metadata": {},
   "outputs": [],
   "source": [
    "org_h, org_w = image.shape[0], image.shape[1]\n",
    "org_sz = np.array([org_h, org_w])\n",
    "pp = (org_w / 2, org_h / 2)"
   ]
  },
  {
   "cell_type": "code",
   "execution_count": 64,
   "metadata": {},
   "outputs": [],
   "source": [
    "segs = normalize_segs(org_segs, pp=pp, rho=focal_length)\n",
    "sampled_segs, line_mask = sample_segs_np(segs, 512)\n",
    "sampled_lines = segs2lines_np(sampled_segs)"
   ]
  },
  {
   "cell_type": "code",
   "execution_count": 65,
   "metadata": {},
   "outputs": [
    {
     "name": "stdout",
     "output_type": "stream",
     "text": [
      "(512, 4)\n"
     ]
    }
   ],
   "source": [
    "print(sampled_segs.shape)"
   ]
  },
  {
   "cell_type": "code",
   "execution_count": 66,
   "metadata": {},
   "outputs": [],
   "source": [
    "plt.figure(figsize=(5,5))\n",
    "plt.imshow(image, extent=[-256/focal_length, 256/focal_length, 256/focal_length, -256/focal_length])\n",
    "for i in range(num_segs):\n",
    "    plt.plot(\n",
    "        (segs[i, 0], segs[i, 2]),\n",
    "        (segs[i, 1], segs[i, 3]),\n",
    "        c=\"r\",\n",
    "        alpha=1.0,\n",
    "    )                               \n",
    "plt.xlim(-256/focal_length, 256/focal_length)\n",
    "plt.ylim(256/focal_length, -256/focal_length)\n",
    "plt.axis('off')\n",
    "plt.savefig('scannet_vp_segs.jpg',  \n",
    "            pad_inches=0, bbox_inches='tight')\n",
    "plt.close('all')"
   ]
  },
  {
   "cell_type": "code",
   "execution_count": null,
   "metadata": {},
   "outputs": [],
   "source": []
  },
  {
   "cell_type": "code",
   "execution_count": null,
   "metadata": {},
   "outputs": [],
   "source": []
  }
 ],
 "metadata": {
  "kernelspec": {
   "display_name": "debug",
   "language": "python",
   "name": "python3"
  },
  "language_info": {
   "codemirror_mode": {
    "name": "ipython",
    "version": 3
   },
   "file_extension": ".py",
   "mimetype": "text/x-python",
   "name": "python",
   "nbconvert_exporter": "python",
   "pygments_lexer": "ipython3",
   "version": "3.9.18"
  },
  "orig_nbformat": 4
 },
 "nbformat": 4,
 "nbformat_minor": 2
}
