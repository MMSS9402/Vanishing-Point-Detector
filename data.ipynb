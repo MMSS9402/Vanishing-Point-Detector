{
 "cells": [
  {
   "cell_type": "code",
   "execution_count": 2,
   "metadata": {},
   "outputs": [
    {
     "name": "stderr",
     "output_type": "stream",
     "text": [
      "/home/kmuvcl/anaconda3/envs/debug/lib/python3.9/site-packages/tqdm/auto.py:21: TqdmWarning: IProgress not found. Please update jupyter and ipywidgets. See https://ipywidgets.readthedocs.io/en/stable/user_install.html\n",
      "  from .autonotebook import tqdm as notebook_tqdm\n"
     ]
    }
   ],
   "source": [
    "import os\n",
    "import json\n",
    "import math\n",
    "import random\n",
    "import glob\n",
    "import numpy as np\n",
    "import torch\n",
    "import numpy.linalg as LA\n",
    "\n",
    "\n",
    "import skimage.transform\n",
    "import skimage.io\n",
    "\n",
    "from scipy import io\n",
    "import scipy.spatial.distance as scipy_spatial_dist"
   ]
  },
  {
   "cell_type": "code",
   "execution_count": 2,
   "metadata": {},
   "outputs": [],
   "source": [
    "def cos_cdis(x, y, semi_sphere=False):\n",
    "    # https://docs.scipy.org/doc/scipy/reference/generated/scipy.spatial.distance.cdist.html#scipy.spatial.distance.cdist\n",
    "    ### compute cosine distance\n",
    "    ### scipy: same 0, opposite 2, orthorgonal 1, dist = 1-AB/(|A||B|)\n",
    "    dist_cos = scipy_spatial_dist.cdist(x, y, 'cosine')  \n",
    "    dist_cos *= -1.0\n",
    "    dist_cos += 1.0\n",
    "\n",
    "    if semi_sphere is True: dist_cos = np.abs(dist_cos)  # dist = abs|AB/(|A||B|)|\n",
    "    dist_cos_arc = np.arccos(dist_cos)\n",
    "    return dist_cos_arc\n",
    "def orth(v):\n",
    "    x, y, z = v\n",
    "    o = np.array([0.0, -z, y] if abs(x) < abs(y) else [-z, 0.0, x])\n",
    "    o /= LA.norm(o)\n",
    "    return o\n",
    "\n",
    "def gold_spiral_sampling_patch(v, alpha, num_pts):\n",
    "    v1 = orth(v)\n",
    "    v2 = np.cross(v, v1)\n",
    "    v, v1, v2 = v[:, None], v1[:, None], v2[:, None]\n",
    "    # indices = np.arange(num_pts) + 0.66\n",
    "    indices = np.arange(num_pts) + 0.5\n",
    "    phi = np.arccos(1 + (math.cos(alpha) - 1) * indices / num_pts)\n",
    "    theta = np.pi * (1 + 5 ** 0.5) * indices\n",
    "    r = np.sin(phi)\n",
    "    return (v * np.cos(phi) + r * (v1 * np.cos(theta) + v2 * np.sin(theta))).T"
   ]
  },
  {
   "cell_type": "code",
   "execution_count": 3,
   "metadata": {},
   "outputs": [],
   "source": [
    "rootdir = \"/home/kmuvcl/dataset/data/scannet-vp/\"\n",
    "split = 'scannetv2_train.txt'"
   ]
  },
  {
   "cell_type": "code",
   "execution_count": 4,
   "metadata": {},
   "outputs": [
    {
     "data": {
      "text/plain": [
       "'/home/kmuvcl/dataset/data/scannet-vp/scannetv2_train.txt'"
      ]
     },
     "execution_count": 4,
     "metadata": {},
     "output_type": "execute_result"
    }
   ],
   "source": [
    "file_path = rootdir + split\n",
    "file_path"
   ]
  },
  {
   "cell_type": "code",
   "execution_count": 22,
   "metadata": {},
   "outputs": [
    {
     "name": "stdout",
     "output_type": "stream",
     "text": [
      "total number of samples 189907\n"
     ]
    }
   ],
   "source": [
    "dirs = np.genfromtxt(file_path, dtype=str)\n",
    "filelist = sum([sorted(glob.glob(f\"{rootdir}{d}/*.png\")) for d in dirs], [])\n",
    "print(\"total number of samples\", len(filelist))"
   ]
  },
  {
   "cell_type": "code",
   "execution_count": null,
   "metadata": {},
   "outputs": [],
   "source": [
    "# dirs = np.genfromtxt(f\"{rootdir}/scannetv2_{split}.txt\", dtype=str)\n",
    "# filelist = sum([sorted(glob.glob(f\"{rootdir}/{d}/*.png\")) for d in dirs], [])\n",
    "# print(\"total number of samples\", len(filelist))"
   ]
  },
  {
   "cell_type": "code",
   "execution_count": 27,
   "metadata": {},
   "outputs": [
    {
     "name": "stdout",
     "output_type": "stream",
     "text": [
      "189907\n",
      "189907\n"
     ]
    }
   ],
   "source": [
    "if split == \"scannetv2_train.txt\":\n",
    "    num_train = int(len(filelist) * 1.0)\n",
    "    print(num_train)\n",
    "    filelist = filelist[0 : num_train]\n",
    "    size = len(filelist)\n",
    "    print(size)\n",
    "\n",
    "xyz = gold_spiral_sampling_patch(np.array([0, 0, 1]), alpha=90.0 * np.pi / 180., num_pts=16384)\n",
    "    "
   ]
  },
  {
   "cell_type": "code",
   "execution_count": null,
   "metadata": {},
   "outputs": [],
   "source": [
    "xyz"
   ]
  },
  {
   "cell_type": "code",
   "execution_count": 28,
   "metadata": {},
   "outputs": [
    {
     "name": "stdout",
     "output_type": "stream",
     "text": [
      "(512, 512, 3)\n",
      "(3, 512, 512)\n"
     ]
    }
   ],
   "source": [
    "iname = filelist[0 % len(filelist)]\n",
    "image = skimage.io.imread(iname)[:, :, 0:3]\n",
    "print(image.shape)\n",
    "image = np.rollaxis(image, 2).copy().astype(float)\n",
    "print(image.shape)"
   ]
  },
  {
   "cell_type": "code",
   "execution_count": 29,
   "metadata": {},
   "outputs": [],
   "source": [
    "with np.load(iname.replace(\"color.png\", \"vanish.npz\")) as npz:\n",
    "    vpts = np.array([npz[d] for d in [\"x\", \"y\", \"z\"]])\n",
    "\n",
    "vpts[:, 1] *= -1\n",
    "vpts /= LA.norm(vpts, axis=1, keepdims=True)"
   ]
  },
  {
   "cell_type": "code",
   "execution_count": 35,
   "metadata": {},
   "outputs": [
    {
     "data": {
      "text/plain": [
       "array([[-0.99024588, -0.11863921,  0.07306047],\n",
       "       [ 0.01114918,  0.45520896,  0.89031483],\n",
       "       [ 0.1388834 , -0.88244512,  0.44944633]])"
      ]
     },
     "execution_count": 35,
     "metadata": {},
     "output_type": "execute_result"
    }
   ],
   "source": [
    "vpts"
   ]
  },
  {
   "cell_type": "code",
   "execution_count": 33,
   "metadata": {},
   "outputs": [
    {
     "data": {
      "text/plain": [
       "array([ 0.1388834 , -0.88244512,  0.44944633])"
      ]
     },
     "execution_count": 33,
     "metadata": {},
     "output_type": "execute_result"
    }
   ],
   "source": [
    "vpts[2]"
   ]
  },
  {
   "cell_type": "code",
   "execution_count": null,
   "metadata": {},
   "outputs": [],
   "source": [
    "dist_cos_arc = cos_cdis(vpts, xyz, semi_sphere=True)"
   ]
  },
  {
   "cell_type": "code",
   "execution_count": null,
   "metadata": {},
   "outputs": [],
   "source": [
    "dist_cos_arc"
   ]
  },
  {
   "cell_type": "code",
   "execution_count": null,
   "metadata": {},
   "outputs": [],
   "source": [
    "vpts_idx = dist_cos_arc.argmin(axis=1)"
   ]
  },
  {
   "cell_type": "code",
   "execution_count": null,
   "metadata": {},
   "outputs": [],
   "source": [
    "vpts_idx"
   ]
  },
  {
   "cell_type": "code",
   "execution_count": null,
   "metadata": {},
   "outputs": [],
   "source": [
    "label = np.zeros((16384), dtype=np.float32)"
   ]
  },
  {
   "cell_type": "code",
   "execution_count": null,
   "metadata": {},
   "outputs": [],
   "source": [
    "label"
   ]
  },
  {
   "cell_type": "code",
   "execution_count": null,
   "metadata": {},
   "outputs": [],
   "source": [
    "label[vpts_idx] = 1.0"
   ]
  },
  {
   "cell_type": "code",
   "execution_count": null,
   "metadata": {},
   "outputs": [],
   "source": [
    "vpts"
   ]
  },
  {
   "cell_type": "code",
   "execution_count": 13,
   "metadata": {},
   "outputs": [],
   "source": [
    "line_path = \"/home/kmuvcl/dataset/data/processed_data/lines/P1020171.txt\""
   ]
  },
  {
   "cell_type": "code",
   "execution_count": 19,
   "metadata": {},
   "outputs": [],
   "source": [
    "import csv\n",
    "lsd_line_segments = []"
   ]
  },
  {
   "cell_type": "code",
   "execution_count": 20,
   "metadata": {},
   "outputs": [],
   "source": [
    "with open(line_path, 'r') as csv_file:\n",
    "    reader = csv.DictReader(csv_file, delimiter=' ')\n",
    "    for line in reader:\n",
    "        p1x = float(line['point1_x'])\n",
    "        p1y = float(line['point1_y'])\n",
    "        p2x = float(line['point2_x'])\n",
    "        p2y = float(line['point2_y'])\n",
    "        lsd_line_segments += [np.array([p1x, p1y, p2x, p2y])]"
   ]
  },
  {
   "cell_type": "code",
   "execution_count": 23,
   "metadata": {},
   "outputs": [
    {
     "data": {
      "text/plain": [
       "{'line_hom_a': '0.831623549538148',\n",
       " 'line_hom_b': '-0.5553397805430218',\n",
       " 'line_hom_c': '-173.77685439425682',\n",
       " 'centroid_x': '240.47152981014864',\n",
       " 'centroid_y': '47.18720629684376',\n",
       " 'centroid_z': '1.0',\n",
       " 'point1_x': '244.2258525517585',\n",
       " 'point1_y': '52.80931966577339',\n",
       " 'point1_z': '1.0',\n",
       " 'point2_x': '236.7172070685388',\n",
       " 'point2_y': '41.56509292791414',\n",
       " 'point2_z': '1.0'}"
      ]
     },
     "execution_count": 23,
     "metadata": {},
     "output_type": "execute_result"
    }
   ],
   "source": [
    "line"
   ]
  },
  {
   "cell_type": "code",
   "execution_count": 6,
   "metadata": {},
   "outputs": [],
   "source": [
    "rootdir = \"/home/kmuvcl/dataset/data/processed_data\""
   ]
  },
  {
   "cell_type": "code",
   "execution_count": 138,
   "metadata": {},
   "outputs": [],
   "source": [
    "filelist = glob.glob(f\"{rootdir}/*_0.png\")"
   ]
  },
  {
   "cell_type": "code",
   "execution_count": 139,
   "metadata": {},
   "outputs": [],
   "source": [
    "filelist.sort()"
   ]
  },
  {
   "cell_type": "code",
   "execution_count": 140,
   "metadata": {},
   "outputs": [
    {
     "data": {
      "text/plain": [
       "['/home/kmuvcl/dataset/data/processed_data/0000_0.png',\n",
       " '/home/kmuvcl/dataset/data/processed_data/0001_0.png',\n",
       " '/home/kmuvcl/dataset/data/processed_data/0002_0.png',\n",
       " '/home/kmuvcl/dataset/data/processed_data/0003_0.png',\n",
       " '/home/kmuvcl/dataset/data/processed_data/0004_0.png',\n",
       " '/home/kmuvcl/dataset/data/processed_data/0005_0.png',\n",
       " '/home/kmuvcl/dataset/data/processed_data/0006_0.png',\n",
       " '/home/kmuvcl/dataset/data/processed_data/0007_0.png',\n",
       " '/home/kmuvcl/dataset/data/processed_data/0008_0.png',\n",
       " '/home/kmuvcl/dataset/data/processed_data/0009_0.png',\n",
       " '/home/kmuvcl/dataset/data/processed_data/0010_0.png',\n",
       " '/home/kmuvcl/dataset/data/processed_data/0011_0.png',\n",
       " '/home/kmuvcl/dataset/data/processed_data/0012_0.png',\n",
       " '/home/kmuvcl/dataset/data/processed_data/0013_0.png',\n",
       " '/home/kmuvcl/dataset/data/processed_data/0014_0.png',\n",
       " '/home/kmuvcl/dataset/data/processed_data/0015_0.png',\n",
       " '/home/kmuvcl/dataset/data/processed_data/0016_0.png',\n",
       " '/home/kmuvcl/dataset/data/processed_data/0017_0.png',\n",
       " '/home/kmuvcl/dataset/data/processed_data/0018_0.png',\n",
       " '/home/kmuvcl/dataset/data/processed_data/0019_0.png',\n",
       " '/home/kmuvcl/dataset/data/processed_data/0020_0.png',\n",
       " '/home/kmuvcl/dataset/data/processed_data/0021_0.png',\n",
       " '/home/kmuvcl/dataset/data/processed_data/0022_0.png',\n",
       " '/home/kmuvcl/dataset/data/processed_data/0023_0.png',\n",
       " '/home/kmuvcl/dataset/data/processed_data/0024_0.png',\n",
       " '/home/kmuvcl/dataset/data/processed_data/0025_0.png',\n",
       " '/home/kmuvcl/dataset/data/processed_data/0026_0.png',\n",
       " '/home/kmuvcl/dataset/data/processed_data/0027_0.png',\n",
       " '/home/kmuvcl/dataset/data/processed_data/0028_0.png',\n",
       " '/home/kmuvcl/dataset/data/processed_data/0029_0.png',\n",
       " '/home/kmuvcl/dataset/data/processed_data/0030_0.png',\n",
       " '/home/kmuvcl/dataset/data/processed_data/0031_0.png',\n",
       " '/home/kmuvcl/dataset/data/processed_data/0032_0.png',\n",
       " '/home/kmuvcl/dataset/data/processed_data/0033_0.png',\n",
       " '/home/kmuvcl/dataset/data/processed_data/0034_0.png',\n",
       " '/home/kmuvcl/dataset/data/processed_data/0035_0.png',\n",
       " '/home/kmuvcl/dataset/data/processed_data/0036_0.png',\n",
       " '/home/kmuvcl/dataset/data/processed_data/0037_0.png',\n",
       " '/home/kmuvcl/dataset/data/processed_data/0038_0.png',\n",
       " '/home/kmuvcl/dataset/data/processed_data/0039_0.png',\n",
       " '/home/kmuvcl/dataset/data/processed_data/0040_0.png',\n",
       " '/home/kmuvcl/dataset/data/processed_data/0041_0.png',\n",
       " '/home/kmuvcl/dataset/data/processed_data/0042_0.png',\n",
       " '/home/kmuvcl/dataset/data/processed_data/0043_0.png',\n",
       " '/home/kmuvcl/dataset/data/processed_data/0044_0.png',\n",
       " '/home/kmuvcl/dataset/data/processed_data/0045_0.png',\n",
       " '/home/kmuvcl/dataset/data/processed_data/0046_0.png',\n",
       " '/home/kmuvcl/dataset/data/processed_data/0047_0.png',\n",
       " '/home/kmuvcl/dataset/data/processed_data/0048_0.png',\n",
       " '/home/kmuvcl/dataset/data/processed_data/0049_0.png',\n",
       " '/home/kmuvcl/dataset/data/processed_data/0050_0.png',\n",
       " '/home/kmuvcl/dataset/data/processed_data/0051_0.png',\n",
       " '/home/kmuvcl/dataset/data/processed_data/0052_0.png',\n",
       " '/home/kmuvcl/dataset/data/processed_data/0053_0.png',\n",
       " '/home/kmuvcl/dataset/data/processed_data/0054_0.png',\n",
       " '/home/kmuvcl/dataset/data/processed_data/0055_0.png',\n",
       " '/home/kmuvcl/dataset/data/processed_data/0056_0.png',\n",
       " '/home/kmuvcl/dataset/data/processed_data/0057_0.png',\n",
       " '/home/kmuvcl/dataset/data/processed_data/0058_0.png',\n",
       " '/home/kmuvcl/dataset/data/processed_data/0059_0.png',\n",
       " '/home/kmuvcl/dataset/data/processed_data/0060_0.png',\n",
       " '/home/kmuvcl/dataset/data/processed_data/0061_0.png',\n",
       " '/home/kmuvcl/dataset/data/processed_data/0062_0.png',\n",
       " '/home/kmuvcl/dataset/data/processed_data/0063_0.png',\n",
       " '/home/kmuvcl/dataset/data/processed_data/0064_0.png',\n",
       " '/home/kmuvcl/dataset/data/processed_data/0065_0.png',\n",
       " '/home/kmuvcl/dataset/data/processed_data/0066_0.png',\n",
       " '/home/kmuvcl/dataset/data/processed_data/0067_0.png',\n",
       " '/home/kmuvcl/dataset/data/processed_data/0068_0.png',\n",
       " '/home/kmuvcl/dataset/data/processed_data/0069_0.png',\n",
       " '/home/kmuvcl/dataset/data/processed_data/0070_0.png',\n",
       " '/home/kmuvcl/dataset/data/processed_data/0071_0.png',\n",
       " '/home/kmuvcl/dataset/data/processed_data/0072_0.png',\n",
       " '/home/kmuvcl/dataset/data/processed_data/0073_0.png',\n",
       " '/home/kmuvcl/dataset/data/processed_data/0074_0.png',\n",
       " '/home/kmuvcl/dataset/data/processed_data/0075_0.png',\n",
       " '/home/kmuvcl/dataset/data/processed_data/0076_0.png',\n",
       " '/home/kmuvcl/dataset/data/processed_data/0077_0.png',\n",
       " '/home/kmuvcl/dataset/data/processed_data/0078_0.png',\n",
       " '/home/kmuvcl/dataset/data/processed_data/0079_0.png',\n",
       " '/home/kmuvcl/dataset/data/processed_data/0080_0.png',\n",
       " '/home/kmuvcl/dataset/data/processed_data/0081_0.png',\n",
       " '/home/kmuvcl/dataset/data/processed_data/0082_0.png',\n",
       " '/home/kmuvcl/dataset/data/processed_data/0083_0.png',\n",
       " '/home/kmuvcl/dataset/data/processed_data/0084_0.png',\n",
       " '/home/kmuvcl/dataset/data/processed_data/0085_0.png',\n",
       " '/home/kmuvcl/dataset/data/processed_data/0086_0.png',\n",
       " '/home/kmuvcl/dataset/data/processed_data/0087_0.png',\n",
       " '/home/kmuvcl/dataset/data/processed_data/0088_0.png',\n",
       " '/home/kmuvcl/dataset/data/processed_data/0089_0.png',\n",
       " '/home/kmuvcl/dataset/data/processed_data/0090_0.png',\n",
       " '/home/kmuvcl/dataset/data/processed_data/0091_0.png',\n",
       " '/home/kmuvcl/dataset/data/processed_data/0092_0.png',\n",
       " '/home/kmuvcl/dataset/data/processed_data/0093_0.png',\n",
       " '/home/kmuvcl/dataset/data/processed_data/0094_0.png',\n",
       " '/home/kmuvcl/dataset/data/processed_data/0095_0.png',\n",
       " '/home/kmuvcl/dataset/data/processed_data/0096_0.png',\n",
       " '/home/kmuvcl/dataset/data/processed_data/0097_0.png',\n",
       " '/home/kmuvcl/dataset/data/processed_data/0098_0.png',\n",
       " '/home/kmuvcl/dataset/data/processed_data/0099_0.png',\n",
       " '/home/kmuvcl/dataset/data/processed_data/0100_0.png',\n",
       " '/home/kmuvcl/dataset/data/processed_data/0101_0.png']"
      ]
     },
     "execution_count": 140,
     "metadata": {},
     "output_type": "execute_result"
    }
   ],
   "source": [
    "filelist"
   ]
  },
  {
   "cell_type": "code",
   "execution_count": 24,
   "metadata": {},
   "outputs": [],
   "source": [
    "from scipy import io"
   ]
  },
  {
   "cell_type": "code",
   "execution_count": 148,
   "metadata": {},
   "outputs": [],
   "source": [
    "\n",
    "gt_data = io.loadmat(os.path.join(\"/home/kmuvcl/dataset/data/processed_data/vps/P1020171GroundTruthVP_CamParams.mat\"))"
   ]
  },
  {
   "cell_type": "code",
   "execution_count": 158,
   "metadata": {},
   "outputs": [],
   "source": [
    "camera_params = io.loadmat(os.path.join(\"/home/kmuvcl/dataset/data/processed_data/YorkUrbanDB\", \"cameraParameters.mat\"))\n",
    "f = camera_params['focal'][0, 0]\n",
    "ps = camera_params['pixelSize'][0, 0]\n",
    "pp = camera_params['pp'][0, :]\n",
    "K = np.matrix([[f / ps, 0, pp[0]], [0, f / ps, pp[1]], [0, 0, 1]])"
   ]
  },
  {
   "cell_type": "code",
   "execution_count": 161,
   "metadata": {},
   "outputs": [
    {
     "data": {
      "text/plain": [
       "({'__header__': b'MATLAB 5.0 MAT-file, Platform: PCWIN, Created on: Mon Oct 13 23:06:17 2008',\n",
       "  '__version__': '1.0',\n",
       "  '__globals__': [],\n",
       "  'focal': array([[6.05317059]]),\n",
       "  'pp': array([[307.55130528, 251.45424496]]),\n",
       "  'pixelSize': array([[0.00896875]])},\n",
       " matrix([[674.91797516,   0.        , 307.55130528],\n",
       "         [  0.        , 674.91797516, 251.45424496],\n",
       "         [  0.        ,   0.        ,   1.        ]]))"
      ]
     },
     "execution_count": 161,
     "metadata": {},
     "output_type": "execute_result"
    }
   ],
   "source": [
    "camera_params, K"
   ]
  },
  {
   "cell_type": "code",
   "execution_count": 162,
   "metadata": {},
   "outputs": [
    {
     "data": {
      "text/plain": [
       "array([[-0.76923989, -0.06964852,  0.63526196, -8.32560606],\n",
       "       [-0.15739971,  0.98406444, -0.08427292, -0.47939755],\n",
       "       [ 0.61926999,  0.16360399,  0.76768504,  1.        ]])"
      ]
     },
     "execution_count": 162,
     "metadata": {},
     "output_type": "execute_result"
    }
   ],
   "source": [
    "gt_data['vp']"
   ]
  },
  {
   "cell_type": "code",
   "execution_count": 150,
   "metadata": {},
   "outputs": [],
   "source": [
    "true_vds = np.matrix(gt_data['vp'])"
   ]
  },
  {
   "cell_type": "code",
   "execution_count": 178,
   "metadata": {},
   "outputs": [
    {
     "data": {
      "text/plain": [
       "matrix([[-0.76923989, -0.06964852,  0.63526196, -8.32560606],\n",
       "        [ 0.15739971, -0.98406444,  0.08427292,  0.47939755],\n",
       "        [ 0.61926999,  0.16360399,  0.76768504,  1.        ]])"
      ]
     },
     "execution_count": 178,
     "metadata": {},
     "output_type": "execute_result"
    }
   ],
   "source": [
    "true_vds"
   ]
  },
  {
   "cell_type": "code",
   "execution_count": 152,
   "metadata": {},
   "outputs": [],
   "source": [
    "true_vds[1, :] *= -1"
   ]
  },
  {
   "cell_type": "code",
   "execution_count": 165,
   "metadata": {},
   "outputs": [],
   "source": [
    "true_vps = K * true_vds"
   ]
  },
  {
   "cell_type": "code",
   "execution_count": 167,
   "metadata": {},
   "outputs": [],
   "source": [
    "num_vp = true_vps.shape[1]"
   ]
  },
  {
   "cell_type": "code",
   "execution_count": 168,
   "metadata": {},
   "outputs": [],
   "source": [
    "tvp_list = []\n",
    "for vi in range(num_vp):\n",
    "    true_vps[:, vi] /= true_vps[2, vi]\n",
    "\n",
    "    tVP = np.array(true_vps[:, vi])[:, 0]\n",
    "    tVP /= tVP[2]\n",
    "\n",
    "    tvp_list += [tVP]"
   ]
  },
  {
   "cell_type": "code",
   "execution_count": 169,
   "metadata": {},
   "outputs": [],
   "source": [
    "true_vps = np.vstack(tvp_list)"
   ]
  },
  {
   "cell_type": "code",
   "execution_count": 172,
   "metadata": {},
   "outputs": [],
   "source": [
    "true_vps = torch.tensor(true_vps)"
   ]
  },
  {
   "cell_type": "code",
   "execution_count": 184,
   "metadata": {},
   "outputs": [],
   "source": [
    "vp = true_vps"
   ]
  },
  {
   "cell_type": "code",
   "execution_count": 185,
   "metadata": {},
   "outputs": [
    {
     "data": {
      "text/plain": [
       "tensor([[-5.3081e+02,  4.2300e+02,  1.0000e+00],\n",
       "        [ 2.0229e+01, -3.8081e+03,  1.0000e+00],\n",
       "        [ 8.6605e+02,  3.2554e+02,  1.0000e+00],\n",
       "        [-5.3115e+03,  5.7501e+02,  1.0000e+00]], dtype=torch.float64)"
      ]
     },
     "execution_count": 185,
     "metadata": {},
     "output_type": "execute_result"
    }
   ],
   "source": [
    "vp"
   ]
  },
  {
   "cell_type": "code",
   "execution_count": 189,
   "metadata": {},
   "outputs": [
    {
     "data": {
      "text/plain": [
       "tensor([[ -530.8130,   422.9980],\n",
       "        [   20.2292, -3808.1215],\n",
       "        [  866.0482,   325.5436],\n",
       "        [-5311.5499,   575.0083]], dtype=torch.float64)"
      ]
     },
     "execution_count": 189,
     "metadata": {},
     "output_type": "execute_result"
    }
   ],
   "source": [
    "vps_pixel = vp[:, 0:2]\n",
    "vps_pixel"
   ]
  },
  {
   "cell_type": "code",
   "execution_count": 201,
   "metadata": {},
   "outputs": [],
   "source": [
    "vps_homo = np.concatenate((vps_pixel, np.ones((len(vps_pixel),1), dtype=np.float32)), axis=-1)"
   ]
  },
  {
   "cell_type": "code",
   "execution_count": 202,
   "metadata": {},
   "outputs": [
    {
     "data": {
      "text/plain": [
       "array([[-5.30812950e+02,  4.22997993e+02,  1.00000000e+00],\n",
       "       [ 2.02292286e+01, -3.80812146e+03,  1.00000000e+00],\n",
       "       [ 8.66048212e+02,  3.25543624e+02,  1.00000000e+00],\n",
       "       [-5.31154988e+03,  5.75008266e+02,  1.00000000e+00]])"
      ]
     },
     "execution_count": 202,
     "metadata": {},
     "output_type": "execute_result"
    }
   ],
   "source": [
    "vps_homo"
   ]
  },
  {
   "cell_type": "code",
   "execution_count": 203,
   "metadata": {},
   "outputs": [],
   "source": [
    "vps_homo[:, 0] -= 320\n",
    "vps_homo[:, 1] -= 240\n",
    "vps_homo[:, 1] *= -1"
   ]
  },
  {
   "cell_type": "code",
   "execution_count": 204,
   "metadata": {},
   "outputs": [
    {
     "data": {
      "text/plain": [
       "array([[-8.50812950e+02, -1.82997993e+02,  1.00000000e+00],\n",
       "       [-2.99770771e+02,  4.04812146e+03,  1.00000000e+00],\n",
       "       [ 5.46048212e+02, -8.55436241e+01,  1.00000000e+00],\n",
       "       [-5.63154988e+03, -3.35008266e+02,  1.00000000e+00]])"
      ]
     },
     "execution_count": 204,
     "metadata": {},
     "output_type": "execute_result"
    }
   ],
   "source": [
    "vps_homo"
   ]
  },
  {
   "cell_type": "code",
   "execution_count": 205,
   "metadata": {},
   "outputs": [],
   "source": [
    "vps_homo[:, 0:2] /= 320."
   ]
  },
  {
   "cell_type": "code",
   "execution_count": null,
   "metadata": {},
   "outputs": [],
   "source": []
  },
  {
   "cell_type": "code",
   "execution_count": 177,
   "metadata": {},
   "outputs": [
    {
     "data": {
      "text/plain": [
       "tensor(-1621564.6715, dtype=torch.float64)"
      ]
     },
     "execution_count": 177,
     "metadata": {},
     "output_type": "execute_result"
    }
   ],
   "source": [
    "torch.dot(true_vps[0],true_vps[1])"
   ]
  },
  {
   "cell_type": "code",
   "execution_count": 111,
   "metadata": {},
   "outputs": [],
   "source": [
    "iname = \"/home/kmuvcl/dataset/data/processed_data/0000_0.png\""
   ]
  },
  {
   "cell_type": "code",
   "execution_count": 112,
   "metadata": {},
   "outputs": [],
   "source": [
    "image = skimage.io.imread(iname)[:, :, 0:3]"
   ]
  },
  {
   "cell_type": "code",
   "execution_count": 113,
   "metadata": {},
   "outputs": [
    {
     "data": {
      "text/plain": [
       "(480, 640, 3)"
      ]
     },
     "execution_count": 113,
     "metadata": {},
     "output_type": "execute_result"
    }
   ],
   "source": [
    "image.shape"
   ]
  },
  {
   "cell_type": "code",
   "execution_count": 179,
   "metadata": {},
   "outputs": [],
   "source": [
    "with np.load(iname.replace(\".png\", \".npz\"), allow_pickle=True) as npz:\n",
    "    vpts = npz[\"vpts\"]\n",
    "    dict = npz['line_segments']\n",
    "    vp_inds = npz['line_vp_inds']\n",
    "    # vpts = vpts[0:3]"
   ]
  },
  {
   "cell_type": "code",
   "execution_count": 180,
   "metadata": {},
   "outputs": [
    {
     "data": {
      "text/plain": [
       "array([[-0.9175774 , -0.1973581 ,  0.34511084],\n",
       "       [-0.0736212 ,  0.99418491,  0.07858933],\n",
       "       [ 0.85499071, -0.13394239,  0.50104922],\n",
       "       [-0.99663327, -0.05928748,  0.05663142]])"
      ]
     },
     "execution_count": 180,
     "metadata": {},
     "output_type": "execute_result"
    }
   ],
   "source": [
    "vpts"
   ]
  },
  {
   "cell_type": "code",
   "execution_count": 131,
   "metadata": {},
   "outputs": [
    {
     "name": "stdout",
     "output_type": "stream",
     "text": [
      "[0 1 2 3] [ 54 425 244  63]\n"
     ]
    }
   ],
   "source": [
    "elements , counts = np.unique(vp_inds,return_counts = True)\n",
    "print(elements,counts)"
   ]
  },
  {
   "cell_type": "code",
   "execution_count": 132,
   "metadata": {},
   "outputs": [
    {
     "data": {
      "text/plain": [
       "array([1, 2, 3, 0])"
      ]
     },
     "execution_count": 132,
     "metadata": {},
     "output_type": "execute_result"
    }
   ],
   "source": [
    "sorted_indices = np.argsort(-counts)\n",
    "sorted_indices"
   ]
  },
  {
   "cell_type": "code",
   "execution_count": 134,
   "metadata": {},
   "outputs": [
    {
     "data": {
      "text/plain": [
       "array([1, 2, 3])"
      ]
     },
     "execution_count": 134,
     "metadata": {},
     "output_type": "execute_result"
    }
   ],
   "source": [
    "top_3_indices = elements[sorted_indices[:3]]\n",
    "top_3_indices"
   ]
  },
  {
   "cell_type": "code",
   "execution_count": 135,
   "metadata": {},
   "outputs": [],
   "source": [
    "top_3_vpts = vpts[top_3_indices]"
   ]
  },
  {
   "cell_type": "code",
   "execution_count": 136,
   "metadata": {},
   "outputs": [
    {
     "data": {
      "text/plain": [
       "array([[-0.0736212 ,  0.99418491,  0.07858933],\n",
       "       [ 0.85499071, -0.13394239,  0.50104922],\n",
       "       [-0.99663327, -0.05928748,  0.05663142]])"
      ]
     },
     "execution_count": 136,
     "metadata": {},
     "output_type": "execute_result"
    }
   ],
   "source": [
    "top_3_vpts"
   ]
  },
  {
   "cell_type": "code",
   "execution_count": 137,
   "metadata": {},
   "outputs": [
    {
     "data": {
      "text/plain": [
       "array([[-0.9175774 , -0.1973581 ,  0.34511084],\n",
       "       [-0.0736212 ,  0.99418491,  0.07858933],\n",
       "       [ 0.85499071, -0.13394239,  0.50104922],\n",
       "       [-0.99663327, -0.05928748,  0.05663142]])"
      ]
     },
     "execution_count": 137,
     "metadata": {},
     "output_type": "execute_result"
    }
   ],
   "source": [
    "vpts "
   ]
  },
  {
   "cell_type": "code",
   "execution_count": 18,
   "metadata": {},
   "outputs": [],
   "source": [
    "camera_params = io.loadmat(os.path.join(\"/home/kmuvcl/dataset/data/processed_data/YorkUrbanDB/P1020171\", \"P1020171GroundTruthVP_Orthogonal_CamParams.mat\"))"
   ]
  },
  {
   "cell_type": "code",
   "execution_count": 21,
   "metadata": {},
   "outputs": [],
   "source": [
    "gt_ortho_data = camera_params['vp_orthogonal']"
   ]
  },
  {
   "cell_type": "code",
   "execution_count": 22,
   "metadata": {},
   "outputs": [
    {
     "data": {
      "text/plain": [
       "array([[ 0.76923989, -0.06924798,  0.63519659],\n",
       "       [ 0.15739971,  0.98401208, -0.08334001],\n",
       "       [-0.61926999,  0.16408822,  0.76784095]])"
      ]
     },
     "execution_count": 22,
     "metadata": {},
     "output_type": "execute_result"
    }
   ],
   "source": [
    "gt_ortho_data"
   ]
  },
  {
   "cell_type": "code",
   "execution_count": 23,
   "metadata": {},
   "outputs": [
    {
     "data": {
      "text/plain": [
       "array([ 0.15739971,  0.98401208, -0.08334001])"
      ]
     },
     "execution_count": 23,
     "metadata": {},
     "output_type": "execute_result"
    }
   ],
   "source": [
    "gt_ortho_data[1,:]"
   ]
  },
  {
   "cell_type": "code",
   "execution_count": null,
   "metadata": {},
   "outputs": [],
   "source": []
  }
 ],
 "metadata": {
  "kernelspec": {
   "display_name": "cuti",
   "language": "python",
   "name": "python3"
  },
  "language_info": {
   "codemirror_mode": {
    "name": "ipython",
    "version": 3
   },
   "file_extension": ".py",
   "mimetype": "text/x-python",
   "name": "python",
   "nbconvert_exporter": "python",
   "pygments_lexer": "ipython3",
   "version": "3.9.18"
  },
  "orig_nbformat": 4
 },
 "nbformat": 4,
 "nbformat_minor": 2
}
