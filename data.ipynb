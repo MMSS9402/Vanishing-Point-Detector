{
 "cells": [
  {
   "cell_type": "code",
   "execution_count": 1,
   "metadata": {},
   "outputs": [],
   "source": [
    "import pandas as pd\n",
    "import numpy as np\n",
    "import csv"
   ]
  },
  {
   "cell_type": "code",
   "execution_count": null,
   "metadata": {},
   "outputs": [],
   "source": [
    "with open(\"/home/kmuvcl/source/CTRL-C/matterport_train_20230525.csv\", \"r\") as csvfile:\n",
    "            csvreader = csv.reader(csvfile)\n",
    "            for row in csvreader:\n",
    "                print(row[5])"
   ]
  },
  {
   "cell_type": "code",
   "execution_count": null,
   "metadata": {},
   "outputs": [],
   "source": [
    "csvreader"
   ]
  },
  {
   "cell_type": "code",
   "execution_count": null,
   "metadata": {},
   "outputs": [],
   "source": [
    "for row in csvreader:\n",
    "    print(row[0])"
   ]
  },
  {
   "cell_type": "code",
   "execution_count": 2,
   "metadata": {},
   "outputs": [],
   "source": [
    "list_filename = []\n",
    "list_img_filename = []\n",
    "list_line_filename = []\n",
    "list_vp1 = []\n",
    "list_vp2 = []\n",
    "list_vp3 = []"
   ]
  },
  {
   "cell_type": "code",
   "execution_count": 6,
   "metadata": {},
   "outputs": [],
   "source": [
    "basepath = \"/home/kmuvcl/source/oldCuTi/CuTi/matterport\"\n",
    "with open(\"/home/kmuvcl/source/CTRL-C/matterport_train_20230525.csv\", \"r\") as csvfile:\n",
    "        csvreader = csv.reader(csvfile)\n",
    "        for row in csvreader:\n",
    "                # csv file 열면\n",
    "                # 이미지파일.jpg, 라인파일.csv,??, pitch, roll, focal,\n",
    "                img_filename = basepath + row[0]\n",
    "                line_filename = basepath + row[1]\n",
    "                list_filename.append(row[0])\n",
    "                list_img_filename.append(img_filename)\n",
    "                list_line_filename.append(line_filename)\n",
    "                try:\n",
    "                        list_vp1.append([np.float32(row[2]),np.float32(row[3]),np.float32(row[4])])\n",
    "                        list_vp2.append([np.float32(row[5]),np.float32(row[6]),np.float32(row[7])])\n",
    "                        list_vp3.append([np.float32(row[8]),np.float32(row[9]),np.float32(row[10])])\n",
    "                except ValueError:\n",
    "                        print(row[2])\n",
    "                        print(row[3])\n",
    "                        print(row[4])\n",
    "\n",
    "                list_vp1.append([np.float32(row[2]),np.float32(row[3]),np.float32(row[4])])\n",
    "                list_vp2.append([np.float32(row[5]),np.float32(row[6]),np.float32(row[7])])\n",
    "                list_vp3.append([np.float32(row[8]),np.float32(row[9]),np.float32(row[10])])"
   ]
  },
  {
   "cell_type": "code",
   "execution_count": null,
   "metadata": {},
   "outputs": [],
   "source": [
    "img_filename"
   ]
  },
  {
   "cell_type": "code",
   "execution_count": null,
   "metadata": {},
   "outputs": [],
   "source": [
    "import torch"
   ]
  },
  {
   "cell_type": "code",
   "execution_count": null,
   "metadata": {},
   "outputs": [],
   "source": [
    "len(list_vp1)"
   ]
  },
  {
   "cell_type": "code",
   "execution_count": null,
   "metadata": {},
   "outputs": [],
   "source": [
    "x = torch.randn(3,3)"
   ]
  },
  {
   "cell_type": "code",
   "execution_count": null,
   "metadata": {},
   "outputs": [],
   "source": [
    "x"
   ]
  },
  {
   "cell_type": "code",
   "execution_count": null,
   "metadata": {},
   "outputs": [],
   "source": [
    "x[:,1]"
   ]
  },
  {
   "cell_type": "code",
   "execution_count": null,
   "metadata": {},
   "outputs": [],
   "source": []
  }
 ],
 "metadata": {
  "kernelspec": {
   "display_name": "cuti",
   "language": "python",
   "name": "python3"
  },
  "language_info": {
   "codemirror_mode": {
    "name": "ipython",
    "version": 3
   },
   "file_extension": ".py",
   "mimetype": "text/x-python",
   "name": "python",
   "nbconvert_exporter": "python",
   "pygments_lexer": "ipython3",
   "version": "3.9.16"
  },
  "orig_nbformat": 4
 },
 "nbformat": 4,
 "nbformat_minor": 2
}
